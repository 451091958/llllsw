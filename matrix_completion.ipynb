{
  "nbformat": 4,
  "nbformat_minor": 0,
  "metadata": {
    "colab": {
      "name": "matrix_completion.ipynb",
      "provenance": [],
      "authorship_tag": "ABX9TyNZdJyIgzeV5kY+bIBKs8Ht",
      "include_colab_link": true
    },
    "kernelspec": {
      "name": "python3",
      "display_name": "Python 3"
    }
  },
  "cells": [
    {
      "cell_type": "markdown",
      "metadata": {
        "id": "view-in-github",
        "colab_type": "text"
      },
      "source": [
        "<a href=\"https://colab.research.google.com/github/451091958/llllsw/blob/main/matrix_completion.ipynb\" target=\"_parent\"><img src=\"https://colab.research.google.com/assets/colab-badge.svg\" alt=\"Open In Colab\"/></a>"
      ]
    },
    {
      "cell_type": "code",
      "metadata": {
        "id": "YLQzKfy94Lzi"
      },
      "source": [
        "import numpy as np"
      ],
      "execution_count": 1,
      "outputs": []
    },
    {
      "cell_type": "code",
      "metadata": {
        "colab": {
          "base_uri": "https://localhost:8080/"
        },
        "id": "kmf4oToC4Yjf",
        "outputId": "1cd71b4c-49dc-4751-9a98-a2bd63ad8270"
      },
      "source": [
        "x=np.array([\r\n",
        "        [5, 0, 0, 3 , 2],\r\n",
        "        [0, 5, 3, 0 , 5],\r\n",
        "        [5, 3, 0, 0 , 0],\r\n",
        "        [3, 0, 5, 4 , 0],\r\n",
        "    ], dtype=np.float)\r\n",
        "x[x==0]=np.nan\r\n",
        "print(x)"
      ],
      "execution_count": 2,
      "outputs": [
        {
          "output_type": "stream",
          "text": [
            "[[ 5. nan nan  3.  2.]\n",
            " [nan  5.  3. nan  5.]\n",
            " [ 5.  3. nan nan nan]\n",
            " [ 3. nan  5.  4. nan]]\n"
          ],
          "name": "stdout"
        }
      ]
    },
    {
      "cell_type": "code",
      "metadata": {
        "colab": {
          "base_uri": "https://localhost:8080/"
        },
        "id": "GV9i0xHs4YqG",
        "outputId": "9b8bdd7f-ad02-4d3c-9f56-fb417f3d689b"
      },
      "source": [
        "m=len(x)\r\n",
        "k=len(x[0])\r\n",
        "print(m,k)#     m k取x矩阵的行列长宽"
      ],
      "execution_count": 3,
      "outputs": [
        {
          "output_type": "stream",
          "text": [
            "4 5\n"
          ],
          "name": "stdout"
        }
      ]
    },
    {
      "cell_type": "code",
      "metadata": {
        "colab": {
          "base_uri": "https://localhost:8080/"
        },
        "id": "qrcZVhLj4Ywu",
        "outputId": "a3f1d996-eff9-41a8-93c7-4be6f6016c1b"
      },
      "source": [
        "h=3       #超参数h，要求小于m和k\r\n",
        "U=np.random.rand(m,h)\r\n",
        "V=np.random.rand(k,h)\r\n",
        "print(U)\r\n",
        "print(V)"
      ],
      "execution_count": 4,
      "outputs": [
        {
          "output_type": "stream",
          "text": [
            "[[0.28078041 0.05668749 0.41659871]\n",
            " [0.65063131 0.753598   0.63510203]\n",
            " [0.98412639 0.70500721 0.5448829 ]\n",
            " [0.31101042 0.55255489 0.65436021]]\n",
            "[[0.77601483 0.84920876 0.60321767]\n",
            " [0.24027773 0.11646177 0.45280956]\n",
            " [0.93637111 0.55440246 0.73251889]\n",
            " [0.31778716 0.45881623 0.61943892]\n",
            " [0.96254571 0.28801985 0.7406683 ]]\n"
          ],
          "name": "stdout"
        }
      ]
    },
    {
      "cell_type": "code",
      "metadata": {
        "id": "zp1Df-LK4Y3X"
      },
      "source": [
        "def loss(X,U,V):\r\n",
        "    L=0.0\r\n",
        "    for i in range(len(x)):\r\n",
        "        for j in range(len(x[0])):\r\n",
        "            if x[i][j]==x[i][j]:             \r\n",
        "                L=L+(x[i][j]-np.dot(U[i, :],V[j, :].T))**2\r\n",
        "    return L"
      ],
      "execution_count": 5,
      "outputs": []
    },
    {
      "cell_type": "code",
      "metadata": {
        "colab": {
          "base_uri": "https://localhost:8080/"
        },
        "id": "5r-IqxEi4Y9W",
        "outputId": "97dcf424-cddd-4ffd-8e32-9fb6fdd22c7e"
      },
      "source": [
        "for run in range(1,6000):\r\n",
        "    for i in range(len(x)):\r\n",
        "        for j in range(len(x[0])):\r\n",
        "            eij=0\r\n",
        "            if x[i][j]==x[i][j]:\r\n",
        "                eij=x[i][j]-np.dot(U[i, :],V[j, :].T)\r\n",
        "                U[i, :] += 0.001 * 2 * eij * V[j, :].T \r\n",
        "                V[j, :] += 0.001 * 2 * eij * U[i, :] \r\n",
        "    \r\n",
        "    if run%600==1:\r\n",
        "        print(loss(x,U,V))"
      ],
      "execution_count": 9,
      "outputs": [
        {
          "output_type": "stream",
          "text": [
            "6.218487915274966e-11\n",
            "1.8907202842380376e-11\n",
            "5.7487856954563346e-12\n",
            "1.7479471182904458e-12\n",
            "5.314743023078794e-13\n",
            "1.6159847763742395e-13\n",
            "4.9135214589249924e-14\n",
            "1.4939938025554956e-14\n",
            "4.542604881026649e-15\n",
            "1.3812148415106737e-15\n"
          ],
          "name": "stdout"
        }
      ]
    },
    {
      "cell_type": "code",
      "metadata": {
        "colab": {
          "base_uri": "https://localhost:8080/"
        },
        "id": "rJ2o8epB47Sv",
        "outputId": "40d2e785-e93e-411c-eec6-aa89083b76e4"
      },
      "source": [
        "print(x)\r\n",
        "xhat=np.dot(U,V.T)\r\n",
        "print(xhat)\r\n",
        "for i in range(len(x)):\r\n",
        "    for j in range(len(x[0])):\r\n",
        "        xhat[i][j]=round(xhat[i][j])\r\n",
        "        if xhat[i][j]>5:\r\n",
        "          xhat[i][j]=5\r\n",
        "print(xhat)"
      ],
      "execution_count": 11,
      "outputs": [
        {
          "output_type": "stream",
          "text": [
            "[[ 5. nan nan  3.  2.]\n",
            " [nan  5.  3. nan  5.]\n",
            " [ 5.  3. nan nan nan]\n",
            " [ 3. nan  5.  4. nan]]\n",
            "[[4.99999999 2.96237291 2.47314773 3.         2.00000001]\n",
            " [6.93491625 5.00000001 3.         4.2950685  4.99999999]\n",
            " [5.00000001 2.99999999 1.8847134  2.78199125 2.63212374]\n",
            " [3.         4.1931874  5.         4.         2.81536955]]\n",
            "[[5. 3. 2. 3. 2.]\n",
            " [5. 5. 3. 4. 5.]\n",
            " [5. 3. 2. 3. 3.]\n",
            " [3. 4. 5. 4. 3.]]\n"
          ],
          "name": "stdout"
        }
      ]
    },
    {
      "cell_type": "code",
      "metadata": {
        "id": "vLXMQj4B5OHv"
      },
      "source": [
        ""
      ],
      "execution_count": null,
      "outputs": []
    },
    {
      "cell_type": "markdown",
      "metadata": {
        "id": "grFbcmqS5YqH"
      },
      "source": [
        "公式来源\r\n",
        "https://www.cnblogs.com/wuliytTaotao/p/10814770.html\r\n",
        "\r\n",
        "\r\n",
        "\r\n"
      ]
    }
  ]
}