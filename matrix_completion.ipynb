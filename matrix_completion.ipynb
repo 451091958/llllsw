{
  "nbformat": 4,
  "nbformat_minor": 0,
  "metadata": {
    "colab": {
      "name": "matrix_completion.ipynb",
      "provenance": [],
      "authorship_tag": "ABX9TyNZdJyIgzeV5kY+bIBKs8Ht",
      "include_colab_link": true
    },
    "kernelspec": {
      "name": "python3",
      "display_name": "Python 3"
    }
  },
  "cells": [
    {
      "cell_type": "markdown",
      "metadata": {
        "id": "view-in-github",
        "colab_type": "text"
      },
      "source": [
        "<a href=\"https://colab.research.google.com/github/451091958/llllsw/blob/main/matrix_completion.ipynb\" target=\"_parent\"><img src=\"https://colab.research.google.com/assets/colab-badge.svg\" alt=\"Open In Colab\"/></a>"
      ]
    },
    {
      "cell_type": "code",
      "metadata": {
        "id": "YLQzKfy94Lzi"
      },
      "source": [
        "import numpy as np"
      ],
      "execution_count": 1,
      "outputs": []
    },
    {
      "cell_type": "code",
      "metadata": {
        "colab": {
          "base_uri": "https://localhost:8080/"
        },
        "id": "kmf4oToC4Yjf",
        "outputId": "7a130589-d2c0-4a65-ce96-c33e0516b675"
      },
      "source": [
        "x=np.array([\r\n",
        "        [5, 0, 0, 3 , 2],\r\n",
        "        [0, 5, 3, 0 , 5],\r\n",
        "        [5, 3, 0, 0 , 0],\r\n",
        "        [3, 0, 5, 4 , 0],\r\n",
        "    ], dtype=np.float)\r\n",
        "x[x==0]=np.nan\r\n",
        "print(x)"
      ],
      "execution_count": 2,
      "outputs": [
        {
          "output_type": "stream",
          "text": [
            "[[ 5. nan nan  3.  2.]\n",
            " [nan  5.  3. nan  5.]\n",
            " [ 5.  3. nan nan nan]\n",
            " [ 3. nan  5.  4. nan]]\n"
          ],
          "name": "stdout"
        }
      ]
    },
    {
      "cell_type": "code",
      "metadata": {
        "colab": {
          "base_uri": "https://localhost:8080/"
        },
        "id": "GV9i0xHs4YqG",
        "outputId": "287541b1-06a4-4ba5-a56a-5c97191ce931"
      },
      "source": [
        "m=len(x)\r\n",
        "k=len(x[0])\r\n",
        "print(m,k)#     m k取x矩阵的行列长宽"
      ],
      "execution_count": 3,
      "outputs": [
        {
          "output_type": "stream",
          "text": [
            "4 5\n"
          ],
          "name": "stdout"
        }
      ]
    },
    {
      "cell_type": "code",
      "metadata": {
        "colab": {
          "base_uri": "https://localhost:8080/"
        },
        "id": "qrcZVhLj4Ywu",
        "outputId": "317a81ab-4885-4a87-ba6e-aa31a27ef20a"
      },
      "source": [
        "h=3       #超参数h，要求小于m和k\r\n",
        "U=np.random.rand(m,h)\r\n",
        "V=np.random.rand(k,h)\r\n",
        "print(U)\r\n",
        "print(V)"
      ],
      "execution_count": 4,
      "outputs": [
        {
          "output_type": "stream",
          "text": [
            "[[0.92861548 0.19185827 0.28510407]\n",
            " [0.04441584 0.7730483  0.39038581]\n",
            " [0.22647762 0.44548638 0.49593484]\n",
            " [0.14324002 0.2954096  0.58025435]]\n",
            "[[0.95856581 0.63765021 0.59748054]\n",
            " [0.21316592 0.46958577 0.30352947]\n",
            " [0.91748678 0.98049078 0.60497153]\n",
            " [0.49442978 0.43940386 0.52623609]\n",
            " [0.7046323  0.96790588 0.10357078]]\n"
          ],
          "name": "stdout"
        }
      ]
    },
    {
      "cell_type": "code",
      "metadata": {
        "id": "zp1Df-LK4Y3X"
      },
      "source": [
        "def loss(X,U,V):\r\n",
        "    L=0.0\r\n",
        "    for i in range(len(x)):\r\n",
        "        for j in range(len(x[0])):\r\n",
        "            if x[i][j]==x[i][j]:             \r\n",
        "                L=L+(x[i][j]-np.dot(U[i, :],V[j, :].T))**2\r\n",
        "    return L"
      ],
      "execution_count": 5,
      "outputs": []
    },
    {
      "cell_type": "code",
      "metadata": {
        "colab": {
          "base_uri": "https://localhost:8080/"
        },
        "id": "5r-IqxEi4Y9W",
        "outputId": "8d87e43a-9f50-46a2-badc-6e46957630c4"
      },
      "source": [
        "for run in range(1,6000):\r\n",
        "    for i in range(len(x)):\r\n",
        "        for j in range(len(x[0])):\r\n",
        "            eij=0\r\n",
        "            if x[i][j]==x[i][j]:\r\n",
        "                eij=x[i][j]-np.dot(U[i, :],V[j, :].T)\r\n",
        "                U[i, :] += 0.001 * 2 * eij * V[j, :].T \r\n",
        "                V[j, :] += 0.001 * 2 * eij * U[i, :] \r\n",
        "    \r\n",
        "    if run%600==1:\r\n",
        "        print(loss(x,U,V))"
      ],
      "execution_count": 6,
      "outputs": [
        {
          "output_type": "stream",
          "text": [
            "120.69018482574272\n",
            "0.20992356447636593\n",
            "7.204376642088691e-05\n",
            "3.297744568089896e-08\n",
            "3.8545316792835785e-11\n",
            "6.781530315813648e-14\n",
            "1.281945248653219e-16\n",
            "2.4470163632423784e-19\n",
            "4.677639711157337e-22\n",
            "8.84040326094774e-25\n"
          ],
          "name": "stdout"
        }
      ]
    },
    {
      "cell_type": "code",
      "metadata": {
        "colab": {
          "base_uri": "https://localhost:8080/"
        },
        "id": "rJ2o8epB47Sv",
        "outputId": "f8bae3cb-d42c-4d50-965e-7fd050da0f6f"
      },
      "source": [
        "print(x)\r\n",
        "xhat=np.dot(U,V.T)\r\n",
        "print(xhat)\r\n",
        "for i in range(len(x)):\r\n",
        "    for j in range(len(x[0])):\r\n",
        "        xhat[i][j]=round(xhat[i][j])\r\n",
        "        if xhat[i][j]>5:\r\n",
        "          xhat[i][j]=5\r\n",
        "print(xhat)"
      ],
      "execution_count": 7,
      "outputs": [
        {
          "output_type": "stream",
          "text": [
            "[[ 5. nan nan  3.  2.]\n",
            " [nan  5.  3. nan  5.]\n",
            " [ 5.  3. nan nan nan]\n",
            " [ 3. nan  5.  4. nan]]\n",
            "[[5.         1.7473934  4.51547569 3.         2.        ]\n",
            " [2.26687043 5.         3.         3.19202989 5.        ]\n",
            " [5.         3.         5.26593319 3.81583642 3.06892126]\n",
            " [3.         3.91753834 5.         4.         3.4651406 ]]\n",
            "[[5. 2. 5. 3. 2.]\n",
            " [2. 5. 3. 3. 5.]\n",
            " [5. 3. 5. 4. 3.]\n",
            " [3. 4. 5. 4. 3.]]\n"
          ],
          "name": "stdout"
        }
      ]
    },
    {
      "cell_type": "code",
      "metadata": {
        "id": "vLXMQj4B5OHv"
      },
      "source": [
        ""
      ],
      "execution_count": 7,
      "outputs": []
    },
    {
      "cell_type": "markdown",
      "metadata": {
        "id": "grFbcmqS5YqH"
      },
      "source": [
        "公式来源\r\n",
        "https://www.cnblogs.com/wuliytTaotao/p/10814770.html\r\n",
        "\r\n",
        "\r\n",
        "\r\n"
      ]
    }
  ]
}